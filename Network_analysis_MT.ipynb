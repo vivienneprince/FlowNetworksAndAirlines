{
 "cells": [
  {
   "cell_type": "markdown",
   "metadata": {},
   "source": [
    "#### Imports"
   ]
  },
  {
   "cell_type": "code",
   "execution_count": 2,
   "metadata": {},
   "outputs": [],
   "source": [
    "import networkx as nx\n",
    "import pandas as pd\n",
    "import plotly.graph_objects as go\n",
    "import plotly.express as px"
   ]
  },
  {
   "cell_type": "code",
   "execution_count": 3,
   "metadata": {},
   "outputs": [],
   "source": [
    "names = ['Airline', 'Airline_ID', 'Source', \n",
    "         'Source_ID', 'Destination', 'Destination_ID', \n",
    "         'Codeshare', 'Stops', 'Equipment']\n",
    "routes = pd.read_csv('data/routes.dat.txt', header=None, names=names)"
   ]
  },
  {
   "cell_type": "code",
   "execution_count": 4,
   "metadata": {},
   "outputs": [],
   "source": [
    "planes = pd.read_csv('data/planes_cap.csv')"
   ]
  },
  {
   "cell_type": "code",
   "execution_count": 5,
   "metadata": {},
   "outputs": [
    {
     "data": {
      "text/html": [
       "<div>\n",
       "<style scoped>\n",
       "    .dataframe tbody tr th:only-of-type {\n",
       "        vertical-align: middle;\n",
       "    }\n",
       "\n",
       "    .dataframe tbody tr th {\n",
       "        vertical-align: top;\n",
       "    }\n",
       "\n",
       "    .dataframe thead th {\n",
       "        text-align: right;\n",
       "    }\n",
       "</style>\n",
       "<table border=\"1\" class=\"dataframe\">\n",
       "  <thead>\n",
       "    <tr style=\"text-align: right;\">\n",
       "      <th></th>\n",
       "      <th>Airline</th>\n",
       "      <th>Airline_ID</th>\n",
       "      <th>Source</th>\n",
       "      <th>Source_ID</th>\n",
       "      <th>Destination</th>\n",
       "      <th>Destination_ID</th>\n",
       "      <th>Codeshare</th>\n",
       "      <th>Stops</th>\n",
       "      <th>Equipment</th>\n",
       "    </tr>\n",
       "  </thead>\n",
       "  <tbody>\n",
       "    <tr>\n",
       "      <th>0</th>\n",
       "      <td>2B</td>\n",
       "      <td>410</td>\n",
       "      <td>AER</td>\n",
       "      <td>2965</td>\n",
       "      <td>KZN</td>\n",
       "      <td>2990</td>\n",
       "      <td>NaN</td>\n",
       "      <td>0</td>\n",
       "      <td>CR2</td>\n",
       "    </tr>\n",
       "    <tr>\n",
       "      <th>1</th>\n",
       "      <td>2B</td>\n",
       "      <td>410</td>\n",
       "      <td>ASF</td>\n",
       "      <td>2966</td>\n",
       "      <td>KZN</td>\n",
       "      <td>2990</td>\n",
       "      <td>NaN</td>\n",
       "      <td>0</td>\n",
       "      <td>CR2</td>\n",
       "    </tr>\n",
       "    <tr>\n",
       "      <th>2</th>\n",
       "      <td>2B</td>\n",
       "      <td>410</td>\n",
       "      <td>ASF</td>\n",
       "      <td>2966</td>\n",
       "      <td>MRV</td>\n",
       "      <td>2962</td>\n",
       "      <td>NaN</td>\n",
       "      <td>0</td>\n",
       "      <td>CR2</td>\n",
       "    </tr>\n",
       "    <tr>\n",
       "      <th>3</th>\n",
       "      <td>2B</td>\n",
       "      <td>410</td>\n",
       "      <td>CEK</td>\n",
       "      <td>2968</td>\n",
       "      <td>KZN</td>\n",
       "      <td>2990</td>\n",
       "      <td>NaN</td>\n",
       "      <td>0</td>\n",
       "      <td>CR2</td>\n",
       "    </tr>\n",
       "    <tr>\n",
       "      <th>4</th>\n",
       "      <td>2B</td>\n",
       "      <td>410</td>\n",
       "      <td>CEK</td>\n",
       "      <td>2968</td>\n",
       "      <td>OVB</td>\n",
       "      <td>4078</td>\n",
       "      <td>NaN</td>\n",
       "      <td>0</td>\n",
       "      <td>CR2</td>\n",
       "    </tr>\n",
       "  </tbody>\n",
       "</table>\n",
       "</div>"
      ],
      "text/plain": [
       "  Airline Airline_ID Source Source_ID Destination Destination_ID Codeshare  \\\n",
       "0      2B        410    AER      2965         KZN           2990       NaN   \n",
       "1      2B        410    ASF      2966         KZN           2990       NaN   \n",
       "2      2B        410    ASF      2966         MRV           2962       NaN   \n",
       "3      2B        410    CEK      2968         KZN           2990       NaN   \n",
       "4      2B        410    CEK      2968         OVB           4078       NaN   \n",
       "\n",
       "   Stops Equipment  \n",
       "0      0       CR2  \n",
       "1      0       CR2  \n",
       "2      0       CR2  \n",
       "3      0       CR2  \n",
       "4      0       CR2  "
      ]
     },
     "execution_count": 5,
     "metadata": {},
     "output_type": "execute_result"
    }
   ],
   "source": [
    "routes.head()"
   ]
  },
  {
   "cell_type": "code",
   "execution_count": 6,
   "metadata": {},
   "outputs": [
    {
     "data": {
      "text/html": [
       "<div>\n",
       "<style scoped>\n",
       "    .dataframe tbody tr th:only-of-type {\n",
       "        vertical-align: middle;\n",
       "    }\n",
       "\n",
       "    .dataframe tbody tr th {\n",
       "        vertical-align: top;\n",
       "    }\n",
       "\n",
       "    .dataframe thead th {\n",
       "        text-align: right;\n",
       "    }\n",
       "</style>\n",
       "<table border=\"1\" class=\"dataframe\">\n",
       "  <thead>\n",
       "    <tr style=\"text-align: right;\">\n",
       "      <th></th>\n",
       "      <th>Unnamed: 0</th>\n",
       "      <th>Name</th>\n",
       "      <th>Code3</th>\n",
       "      <th>Code4</th>\n",
       "      <th>Model</th>\n",
       "      <th>Capacity</th>\n",
       "    </tr>\n",
       "  </thead>\n",
       "  <tbody>\n",
       "    <tr>\n",
       "      <th>0</th>\n",
       "      <td>0</td>\n",
       "      <td>Aerospatiale/Alenia ATR 42-300</td>\n",
       "      <td>AT4</td>\n",
       "      <td>AT43</td>\n",
       "      <td>['ATR 42', 'ATR 42-500']</td>\n",
       "      <td>46.0</td>\n",
       "    </tr>\n",
       "    <tr>\n",
       "      <th>1</th>\n",
       "      <td>1</td>\n",
       "      <td>Aerospatiale/Alenia ATR 42-500</td>\n",
       "      <td>AT5</td>\n",
       "      <td>AT45</td>\n",
       "      <td>['ATR 42', 'ATR 42-500']</td>\n",
       "      <td>46.0</td>\n",
       "    </tr>\n",
       "    <tr>\n",
       "      <th>2</th>\n",
       "      <td>2</td>\n",
       "      <td>Aerospatiale/Alenia ATR 72</td>\n",
       "      <td>AT7</td>\n",
       "      <td>AT72</td>\n",
       "      <td>['ATR 72']</td>\n",
       "      <td>66.0</td>\n",
       "    </tr>\n",
       "    <tr>\n",
       "      <th>3</th>\n",
       "      <td>3</td>\n",
       "      <td>Airbus A300</td>\n",
       "      <td>AB3</td>\n",
       "      <td>A30B</td>\n",
       "      <td>['A 300', 'A300-B2/B4', 'A300-600']</td>\n",
       "      <td>360.0</td>\n",
       "    </tr>\n",
       "    <tr>\n",
       "      <th>4</th>\n",
       "      <td>4</td>\n",
       "      <td>Airbus A300-600</td>\n",
       "      <td>AB6</td>\n",
       "      <td>A306</td>\n",
       "      <td>['A 300', 'A300-B2/B4', 'A300-600']</td>\n",
       "      <td>360.0</td>\n",
       "    </tr>\n",
       "  </tbody>\n",
       "</table>\n",
       "</div>"
      ],
      "text/plain": [
       "  Unnamed: 0                            Name Code3 Code4  \\\n",
       "0          0  Aerospatiale/Alenia ATR 42-300   AT4  AT43   \n",
       "1          1  Aerospatiale/Alenia ATR 42-500   AT5  AT45   \n",
       "2          2      Aerospatiale/Alenia ATR 72   AT7  AT72   \n",
       "3          3                     Airbus A300   AB3  A30B   \n",
       "4          4                 Airbus A300-600   AB6  A306   \n",
       "\n",
       "                                 Model  Capacity  \n",
       "0             ['ATR 42', 'ATR 42-500']      46.0  \n",
       "1             ['ATR 42', 'ATR 42-500']      46.0  \n",
       "2                           ['ATR 72']      66.0  \n",
       "3  ['A 300', 'A300-B2/B4', 'A300-600']     360.0  \n",
       "4  ['A 300', 'A300-B2/B4', 'A300-600']     360.0  "
      ]
     },
     "execution_count": 6,
     "metadata": {},
     "output_type": "execute_result"
    }
   ],
   "source": [
    "planes.head()"
   ]
  },
  {
   "cell_type": "code",
   "execution_count": 7,
   "metadata": {},
   "outputs": [],
   "source": [
    "planes = planes.drop('Unnamed: 0', axis=1)"
   ]
  },
  {
   "cell_type": "code",
   "execution_count": 8,
   "metadata": {},
   "outputs": [],
   "source": [
    "planes = planes.rename({'Code3':'Equipment'}, axis = 1)"
   ]
  },
  {
   "cell_type": "code",
   "execution_count": 9,
   "metadata": {},
   "outputs": [
    {
     "data": {
      "text/html": [
       "<div>\n",
       "<style scoped>\n",
       "    .dataframe tbody tr th:only-of-type {\n",
       "        vertical-align: middle;\n",
       "    }\n",
       "\n",
       "    .dataframe tbody tr th {\n",
       "        vertical-align: top;\n",
       "    }\n",
       "\n",
       "    .dataframe thead th {\n",
       "        text-align: right;\n",
       "    }\n",
       "</style>\n",
       "<table border=\"1\" class=\"dataframe\">\n",
       "  <thead>\n",
       "    <tr style=\"text-align: right;\">\n",
       "      <th></th>\n",
       "      <th>Name</th>\n",
       "      <th>Equipment</th>\n",
       "      <th>Code4</th>\n",
       "      <th>Model</th>\n",
       "      <th>Capacity</th>\n",
       "    </tr>\n",
       "  </thead>\n",
       "  <tbody>\n",
       "    <tr>\n",
       "      <th>0</th>\n",
       "      <td>Aerospatiale/Alenia ATR 42-300</td>\n",
       "      <td>AT4</td>\n",
       "      <td>AT43</td>\n",
       "      <td>['ATR 42', 'ATR 42-500']</td>\n",
       "      <td>46.0</td>\n",
       "    </tr>\n",
       "    <tr>\n",
       "      <th>1</th>\n",
       "      <td>Aerospatiale/Alenia ATR 42-500</td>\n",
       "      <td>AT5</td>\n",
       "      <td>AT45</td>\n",
       "      <td>['ATR 42', 'ATR 42-500']</td>\n",
       "      <td>46.0</td>\n",
       "    </tr>\n",
       "    <tr>\n",
       "      <th>2</th>\n",
       "      <td>Aerospatiale/Alenia ATR 72</td>\n",
       "      <td>AT7</td>\n",
       "      <td>AT72</td>\n",
       "      <td>['ATR 72']</td>\n",
       "      <td>66.0</td>\n",
       "    </tr>\n",
       "    <tr>\n",
       "      <th>3</th>\n",
       "      <td>Airbus A300</td>\n",
       "      <td>AB3</td>\n",
       "      <td>A30B</td>\n",
       "      <td>['A 300', 'A300-B2/B4', 'A300-600']</td>\n",
       "      <td>360.0</td>\n",
       "    </tr>\n",
       "    <tr>\n",
       "      <th>4</th>\n",
       "      <td>Airbus A300-600</td>\n",
       "      <td>AB6</td>\n",
       "      <td>A306</td>\n",
       "      <td>['A 300', 'A300-B2/B4', 'A300-600']</td>\n",
       "      <td>360.0</td>\n",
       "    </tr>\n",
       "  </tbody>\n",
       "</table>\n",
       "</div>"
      ],
      "text/plain": [
       "                             Name Equipment Code4  \\\n",
       "0  Aerospatiale/Alenia ATR 42-300       AT4  AT43   \n",
       "1  Aerospatiale/Alenia ATR 42-500       AT5  AT45   \n",
       "2      Aerospatiale/Alenia ATR 72       AT7  AT72   \n",
       "3                     Airbus A300       AB3  A30B   \n",
       "4                 Airbus A300-600       AB6  A306   \n",
       "\n",
       "                                 Model  Capacity  \n",
       "0             ['ATR 42', 'ATR 42-500']      46.0  \n",
       "1             ['ATR 42', 'ATR 42-500']      46.0  \n",
       "2                           ['ATR 72']      66.0  \n",
       "3  ['A 300', 'A300-B2/B4', 'A300-600']     360.0  \n",
       "4  ['A 300', 'A300-B2/B4', 'A300-600']     360.0  "
      ]
     },
     "execution_count": 9,
     "metadata": {},
     "output_type": "execute_result"
    }
   ],
   "source": [
    "planes.head()"
   ]
  },
  {
   "cell_type": "markdown",
   "metadata": {},
   "source": [
    "Merge routes with capacity"
   ]
  },
  {
   "cell_type": "code",
   "execution_count": 10,
   "metadata": {},
   "outputs": [],
   "source": [
    "routeCap = routes.merge(planes, on = 'Equipment')"
   ]
  },
  {
   "cell_type": "markdown",
   "metadata": {},
   "source": [
    "Create the graph"
   ]
  },
  {
   "cell_type": "code",
   "execution_count": 11,
   "metadata": {},
   "outputs": [],
   "source": [
    "G = nx.Graph()"
   ]
  },
  {
   "cell_type": "code",
   "execution_count": 12,
   "metadata": {},
   "outputs": [],
   "source": [
    "for i in range(len(routeCap)):\n",
    "    temp = routeCap.iloc[i,:]\n",
    "    source = temp['Source']\n",
    "    dest = temp['Destination']\n",
    "    company = temp['Airline']\n",
    "    cap = temp['Capacity']\n",
    "    \n",
    "    G.add_edge(source, dest, capacity = cap, name = company)"
   ]
  },
  {
   "cell_type": "markdown",
   "metadata": {},
   "source": [
    "All paths with a maximum depth of two from TPA to ORD"
   ]
  },
  {
   "cell_type": "code",
   "execution_count": 13,
   "metadata": {},
   "outputs": [],
   "source": [
    "paths = list(nx.all_simple_paths(G,'TPA','ORD',cutoff=2))"
   ]
  },
  {
   "cell_type": "markdown",
   "metadata": {},
   "source": [
    "Extract and print info for each path. Could be changed to output only the answers to the questions."
   ]
  },
  {
   "cell_type": "code",
   "execution_count": 21,
   "metadata": {
    "collapsed": true
   },
   "outputs": [
    {
     "name": "stdout",
     "output_type": "stream",
     "text": [
      "\n",
      "Path with one layover\n",
      " leg 1:TPA to ACY, carrier: NK, capacity: 142.0\n",
      " leg 1:ACY to ORD, carrier: NK, capacity: 142.0\n",
      " Maximum flow: 142.0\n",
      "\n",
      "\n",
      "Path with one layover\n",
      " leg 1:TPA to DTW, carrier: NK, capacity: 142.0\n",
      " leg 1:DTW to ORD, carrier: DL, capacity: 117.0\n",
      " Maximum flow: 117.0\n",
      "\n",
      "\n",
      "Direct path\n",
      " leg 1:TPA to ORD, carrier: NK, capacity: 142.0\n",
      " Maximum flow: 142.0\n",
      "\n",
      "\n",
      "Path with one layover\n",
      " leg 1:TPA to FLL, carrier: UA, capacity: 35.0\n",
      " leg 1:FLL to ORD, carrier: US, capacity: 189.0\n",
      " Maximum flow: 35.0\n",
      "\n",
      "\n",
      "Path with one layover\n",
      " leg 1:TPA to BOS, carrier: B6, capacity: 179.0\n",
      " leg 1:BOS to ORD, carrier: US, capacity: 189.0\n",
      " Maximum flow: 179.0\n",
      "\n",
      "\n",
      "Path with one layover\n",
      " leg 1:TPA to LGA, carrier: B6, capacity: 179.0\n",
      " leg 1:LGA to ORD, carrier: US, capacity: 189.0\n",
      " Maximum flow: 179.0\n",
      "\n",
      "\n",
      "Path with one layover\n",
      " leg 1:TPA to SJU, carrier: B6, capacity: 179.0\n",
      " leg 1:SJU to ORD, carrier: US, capacity: 189.0\n",
      " Maximum flow: 179.0\n",
      "\n",
      "\n",
      "Path with one layover\n",
      " leg 1:TPA to LAX, carrier: DL, capacity: 179.0\n",
      " leg 1:LAX to ORD, carrier: US, capacity: 189.0\n",
      " Maximum flow: 179.0\n",
      "\n",
      "\n",
      "Path with one layover\n",
      " leg 1:TPA to DFW, carrier: NK, capacity: 179.0\n",
      " leg 1:DFW to ORD, carrier: NK, capacity: 179.0\n",
      " Maximum flow: 179.0\n",
      "\n",
      "\n",
      "Path with one layover\n",
      " leg 1:TPA to MIA, carrier: US, capacity: 189.0\n",
      " leg 1:MIA to ORD, carrier: UA, capacity: 74.0\n",
      " Maximum flow: 74.0\n",
      "\n",
      "\n",
      "Path with one layover\n",
      " leg 1:TPA to GCM, carrier: KX, capacity: 149.0\n",
      " leg 1:GCM to ORD, carrier: KX, capacity: 149.0\n",
      " Maximum flow: 149.0\n",
      "\n",
      "\n",
      "Path with one layover\n",
      " leg 1:TPA to ZRH, carrier: LX, capacity: 412.0\n",
      " leg 1:ZRH to ORD, carrier: UA, capacity: 412.0\n",
      " Maximum flow: 412.0\n",
      "\n",
      "\n",
      "Path with one layover\n",
      " leg 1:TPA to JFK, carrier: US, capacity: 74.0\n",
      " leg 1:JFK to ORD, carrier: DL, capacity: 86.0\n",
      " Maximum flow: 74.0\n",
      "\n",
      "\n",
      "Path with one layover\n",
      " leg 1:TPA to ATL, carrier: FL, capacity: 117.0\n",
      " leg 1:ATL to ORD, carrier: AZ, capacity: 172.0\n",
      " Maximum flow: 117.0\n",
      "\n",
      "\n",
      "Path with one layover\n",
      " leg 1:TPA to DAY, carrier: WN, capacity: 117.0\n",
      " leg 1:DAY to ORD, carrier: US, capacity: 50.0\n",
      " Maximum flow: 50.0\n",
      "\n",
      "\n",
      "Path with one layover\n",
      " leg 1:TPA to CVG, carrier: DL, capacity: 172.0\n",
      " leg 1:CVG to ORD, carrier: US, capacity: 50.0\n",
      " Maximum flow: 50.0\n",
      "\n"
     ]
    }
   ],
   "source": [
    "for path in paths:\n",
    "    if len(path) == 3:\n",
    "        leg1 = G.get_edge_data(path[0],path[1])\n",
    "        leg2 = G.get_edge_data(path[1],path[2])\n",
    "        carrier1 = leg1['name']\n",
    "        carrier2 = leg2['name']\n",
    "        cap1 = leg1['capacity']\n",
    "        cap2 = leg2['capacity']\n",
    "        maxFlow = min(cap1,cap2)\n",
    "        print('\\nPath with one layover\\n',\n",
    "              f'leg 1:{path[0]} to {path[1]}, carrier: {carrier1}, capacity: {cap1}\\n',\n",
    "              f'leg 1:{path[1]} to {path[2]}, carrier: {carrier2}, capacity: {cap2}\\n',\n",
    "              f'Maximum flow: {maxFlow}\\n')\n",
    "    else:\n",
    "        leg = G.get_edge_data(path[0],path[1])\n",
    "        carrier = leg1['name']\n",
    "        cap = leg1['capacity']\n",
    "        print('\\nDirect path\\n',\n",
    "              f'leg 1:{path[0]} to {path[1]}, carrier: {carrier}, capacity: {cap}\\n',\n",
    "              f'Maximum flow: {cap}\\n')\n",
    "        "
   ]
  },
  {
   "cell_type": "code",
   "execution_count": 63,
   "metadata": {
    "scrolled": false
   },
   "outputs": [],
   "source": [
    "def getMaxFlow(s,d,depth = 2):\n",
    "    paths = list(nx.all_simple_paths(G,s,d,cutoff=depth))\n",
    "    mCap = 0\n",
    "    mPath = []\n",
    "    mLay = 0\n",
    "    for path in paths:\n",
    "        legs = []\n",
    "        layovers = len(path)-2\n",
    "        for i in range(len(path)-1):\n",
    "            leg = G.get_edge_data(path[i],path[i+1])\n",
    "            leg['source'] = path[i]\n",
    "            leg['dest'] = path[i+1]\n",
    "            legs.append(leg)\n",
    "        tCap = []\n",
    "        for leg in legs:\n",
    "            tCap.append(leg['capacity'])\n",
    "        if min(tCap) > mCap:\n",
    "            mCap = min(tCap)\n",
    "            mPath = legs\n",
    "            mLay = layovers\n",
    "    print(f'For a trip from {s} to {d}\\n',\n",
    "          f'The maximum capacity is {mCap} with {mLay} layovers\\n',\n",
    "          '#################### ITINERARY ####################')\n",
    "    for i in range(len(mPath)):\n",
    "        leg = mPath[i]\n",
    "        source = leg['source']\n",
    "        dest = leg['dest']\n",
    "        carrier = leg['name']\n",
    "        capacity = leg['capacity']\n",
    "        print(f'\\n####################   Leg {i+1}   ####################\\n',\n",
    "              f'Source: {source}\\n',\n",
    "              f'Destination: {dest}\\n',\n",
    "              f'Carrier code: {carrier}',\n",
    "              f'Capacity: {capacity}')"
   ]
  },
  {
   "cell_type": "code",
   "execution_count": 62,
   "metadata": {
    "scrolled": false
   },
   "outputs": [],
   "source": [
    "def getCarrierMax(s,d,depth = 2):\n",
    "    paths = list(nx.all_simple_paths(G,s,d,cutoff=depth))\n",
    "    possible = []\n",
    "    for path in paths:\n",
    "        legs = []\n",
    "        carriers = set()\n",
    "        layovers = len(path)-2\n",
    "        for i in range(len(path)-1):\n",
    "            leg = G.get_edge_data(path[i],path[i+1])\n",
    "            leg['source'] = path[i]\n",
    "            leg['dest'] = path[i+1]\n",
    "            legs.append(leg)\n",
    "            carriers.add(leg['name'])\n",
    "        if len(carriers) == 1:\n",
    "            possible.append(legs)\n",
    "            \n",
    "    mCap = 0\n",
    "    mPath = []\n",
    "    mCar = ''\n",
    "    for i in range(len(possible)):\n",
    "        legs = possible[i]\n",
    "        caps = [x['capacity'] for x in legs]\n",
    "        carrier = legs[0]['name']\n",
    "        if min(caps) > mCap:\n",
    "            mCap = min(caps)\n",
    "            mPath = legs\n",
    "            mCar = carrier\n",
    "            \n",
    "    print(f'For a trip from {s} to {d}\\n',\n",
    "          f'The maximum single carrier capacity is {mCap} with carrier {mCar}\\n',\n",
    "          '#################### ITINERARY ####################')\n",
    "    for i in range(len(mPath)):\n",
    "        leg = mPath[i]\n",
    "        source = leg['source']\n",
    "        dest = leg['dest']\n",
    "        carrier = leg['name']\n",
    "        capacity = leg['capacity']\n",
    "        print(f'\\n####################   Leg {i+1}   ####################\\n',\n",
    "              f'Source: {source}\\n',\n",
    "              f'Destination: {dest}\\n',\n",
    "              f'Carrier code: {carrier}',\n",
    "              f'Capacity: {capacity}')"
   ]
  },
  {
   "cell_type": "code",
   "execution_count": 64,
   "metadata": {
    "scrolled": false
   },
   "outputs": [
    {
     "name": "stdout",
     "output_type": "stream",
     "text": [
      "For a trip from TPA to ORD\n",
      " The maximum capacity is 412.0 with 1 layovers\n",
      " #################### ITINERARY ####################\n",
      "\n",
      "####################   Leg 1   ####################\n",
      " Source: TPA\n",
      " Destination: ZRH\n",
      " Carrier code: LX Capacity: 412.0\n",
      "\n",
      "####################   Leg 2   ####################\n",
      " Source: ZRH\n",
      " Destination: ORD\n",
      " Carrier code: UA Capacity: 412.0\n"
     ]
    }
   ],
   "source": [
    "getMaxFlow('TPA','ORD',2)"
   ]
  },
  {
   "cell_type": "code",
   "execution_count": 65,
   "metadata": {
    "scrolled": false
   },
   "outputs": [
    {
     "name": "stdout",
     "output_type": "stream",
     "text": [
      "For a trip from TPA to ORD\n",
      " The maximum single carrier capacity is 179.0 with carrier NK\n",
      " #################### ITINERARY ####################\n",
      "\n",
      "####################   Leg 1   ####################\n",
      " Source: TPA\n",
      " Destination: DFW\n",
      " Carrier code: NK Capacity: 179.0\n",
      "\n",
      "####################   Leg 2   ####################\n",
      " Source: DFW\n",
      " Destination: ORD\n",
      " Carrier code: NK Capacity: 179.0\n"
     ]
    }
   ],
   "source": [
    "getCarrierMax('TPA','ORD',2)"
   ]
  },
  {
   "cell_type": "markdown",
   "metadata": {},
   "source": [
    "# Laguardia (NY) to San Francisco International Airport"
   ]
  },
  {
   "cell_type": "code",
   "execution_count": 66,
   "metadata": {
    "scrolled": false
   },
   "outputs": [
    {
     "name": "stdout",
     "output_type": "stream",
     "text": [
      "For a trip from LGA to SFO\n",
      " The maximum capacity is 189.0 with 1 layovers\n",
      " #################### ITINERARY ####################\n",
      "\n",
      "####################   Leg 1   ####################\n",
      " Source: LGA\n",
      " Destination: ORD\n",
      " Carrier code: US Capacity: 189.0\n",
      "\n",
      "####################   Leg 2   ####################\n",
      " Source: ORD\n",
      " Destination: SFO\n",
      " Carrier code: US Capacity: 189.0\n"
     ]
    }
   ],
   "source": [
    "getMaxFlow('LGA','SFO',2)"
   ]
  },
  {
   "cell_type": "code",
   "execution_count": 67,
   "metadata": {
    "scrolled": true
   },
   "outputs": [
    {
     "name": "stdout",
     "output_type": "stream",
     "text": [
      "For a trip from LGA to SFO\n",
      " The maximum single carrier capacity is 189.0 with carrier US\n",
      " #################### ITINERARY ####################\n",
      "\n",
      "####################   Leg 1   ####################\n",
      " Source: LGA\n",
      " Destination: ORD\n",
      " Carrier code: US Capacity: 189.0\n",
      "\n",
      "####################   Leg 2   ####################\n",
      " Source: ORD\n",
      " Destination: SFO\n",
      " Carrier code: US Capacity: 189.0\n"
     ]
    }
   ],
   "source": [
    "getCarrierMax('LGA','SFO',2)"
   ]
  },
  {
   "cell_type": "code",
   "execution_count": 22,
   "metadata": {},
   "outputs": [],
   "source": [
    "paths = list(nx.all_simple_paths(G,'LGA','SFO',cutoff=2))"
   ]
  },
  {
   "cell_type": "code",
   "execution_count": 23,
   "metadata": {},
   "outputs": [
    {
     "name": "stdout",
     "output_type": "stream",
     "text": [
      "\n",
      "Path with one layover\n",
      " leg 1:LGA to FLL, carrier: B6, capacity: 179.0\n",
      " leg 1:FLL to SFO, carrier: VX, capacity: 179.0\n",
      " Maximum flow: 179.0\n",
      "\n",
      "\n",
      "Path with one layover\n",
      " leg 1:LGA to MCO, carrier: B6, capacity: 179.0\n",
      " leg 1:MCO to SFO, carrier: VX, capacity: 179.0\n",
      " Maximum flow: 179.0\n",
      "\n",
      "\n",
      "Path with one layover\n",
      " leg 1:LGA to ORD, carrier: US, capacity: 189.0\n",
      " leg 1:ORD to SFO, carrier: US, capacity: 189.0\n",
      " Maximum flow: 189.0\n",
      "\n",
      "\n",
      "Path with one layover\n",
      " leg 1:LGA to ATL, carrier: FL, capacity: 117.0\n",
      " leg 1:ATL to SFO, carrier: UA, capacity: 189.0\n",
      " Maximum flow: 117.0\n",
      "\n",
      "\n",
      "Path with one layover\n",
      " leg 1:LGA to YYZ, carrier: US, capacity: 74.0\n",
      " leg 1:YYZ to SFO, carrier: UA, capacity: 179.0\n",
      " Maximum flow: 74.0\n",
      "\n",
      "\n",
      "Path with one layover\n",
      " leg 1:LGA to CLT, carrier: DL, capacity: 74.0\n",
      " leg 1:CLT to SFO, carrier: US, capacity: 220.0\n",
      " Maximum flow: 74.0\n",
      "\n",
      "\n",
      "Path with one layover\n",
      " leg 1:LGA to CVG, carrier: DL, capacity: 74.0\n",
      " leg 1:CVG to SFO, carrier: DL, capacity: 179.0\n",
      " Maximum flow: 74.0\n",
      "\n",
      "\n",
      "Path with one layover\n",
      " leg 1:LGA to IND, carrier: DL, capacity: 74.0\n",
      " leg 1:IND to SFO, carrier: UA, capacity: 142.0\n",
      " Maximum flow: 74.0\n",
      "\n"
     ]
    }
   ],
   "source": [
    "for path in paths:\n",
    "    if len(path) == 3:\n",
    "        leg1 = G.get_edge_data(path[0],path[1])\n",
    "        leg2 = G.get_edge_data(path[1],path[2])\n",
    "        carrier1 = leg1['name']\n",
    "        carrier2 = leg2['name']\n",
    "        cap1 = leg1['capacity']\n",
    "        cap2 = leg2['capacity']\n",
    "        maxFlow = min(cap1,cap2)\n",
    "        print('\\nPath with one layover\\n',\n",
    "              f'leg 1:{path[0]} to {path[1]}, carrier: {carrier1}, capacity: {cap1}\\n',\n",
    "              f'leg 1:{path[1]} to {path[2]}, carrier: {carrier2}, capacity: {cap2}\\n',\n",
    "              f'Maximum flow: {maxFlow}\\n')\n",
    "    else:\n",
    "        leg = G.get_edge_data(path[0],path[1])\n",
    "        carrier = leg1['name']\n",
    "        cap = leg1['capacity']\n",
    "        print('\\nDirect path\\n',\n",
    "              f'leg 1:{path[0]} to {path[1]}, carrier: {carrier}, capacity: {cap}\\n',\n",
    "              f'Maximum flow: {cap}\\n')\n",
    "        "
   ]
  },
  {
   "cell_type": "code",
   "execution_count": null,
   "metadata": {},
   "outputs": [],
   "source": []
  }
 ],
 "metadata": {
  "kernelspec": {
   "display_name": "Python 3",
   "language": "python",
   "name": "python3"
  },
  "language_info": {
   "codemirror_mode": {
    "name": "ipython",
    "version": 3
   },
   "file_extension": ".py",
   "mimetype": "text/x-python",
   "name": "python",
   "nbconvert_exporter": "python",
   "pygments_lexer": "ipython3",
   "version": "3.8.3"
  }
 },
 "nbformat": 4,
 "nbformat_minor": 4
}
